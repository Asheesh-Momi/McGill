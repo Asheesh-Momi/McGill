{
 "cells": [
  {
   "cell_type": "markdown",
   "metadata": {},
   "source": [
    "To start this is the supplied by Dr. Sievers"
   ]
  },
  {
   "cell_type": "code",
   "execution_count": 39,
   "metadata": {},
   "outputs": [],
   "source": [
    "import numpy as np\n",
    "import camb\n",
    "from matplotlib import pyplot as plt\n",
    "import time"
   ]
  },
  {
   "cell_type": "code",
   "execution_count": 40,
   "metadata": {},
   "outputs": [],
   "source": [
    "def get_spectrum(pars,lmax=2000):\n",
    "    #print('pars are ',pars)\n",
    "    H0=pars[0]\n",
    "    ombh2=pars[1]\n",
    "    omch2=pars[2]\n",
    "    tau=pars[3]\n",
    "    As=pars[4]\n",
    "    ns=pars[5]\n",
    "    pars=camb.CAMBparams()\n",
    "    pars.set_cosmology(H0=H0,ombh2=ombh2,omch2=omch2,mnu=0.06,omk=0,tau=tau)\n",
    "    pars.InitPower.set_params(As=As,ns=ns,r=0)\n",
    "    pars.set_for_lmax(lmax,lens_potential_accuracy=0)\n",
    "    results=camb.get_results(pars)\n",
    "    powers=results.get_cmb_power_spectra(pars,CMB_unit='muK')\n",
    "    cmb=powers['total']\n",
    "    tt=cmb[:,0]    #you could return the full power spectrum here if you wanted to do say EE\n",
    "    return tt"
   ]
  },
  {
   "cell_type": "code",
   "execution_count": 41,
   "metadata": {},
   "outputs": [
    {
     "data": {
      "image/png": "[encoded data removed]",
      "text/plain": [
       "<Figure size 432x288 with 1 Axes>"
      ]
     },
     "metadata": {
      "needs_background": "light"
     },
     "output_type": "display_data"
    }
   ],
   "source": [
    "plt.ion()\n",
    "\n",
    "pars=np.asarray([65,0.02,0.1,0.05,2e-9,0.96])\n",
    "wmap=np.loadtxt('wmap_tt_spectrum_9yr_v5.txt')\n",
    "\n",
    "plt.clf();\n",
    "#plt.errorbar(wmap[:,0],wmap[:,1],wmap[:,2],fmt='*')\n",
    "plt.plot(wmap[:,0],wmap[:,1],'.')\n",
    "cmb=get_spectrum(pars)\n",
    "plt.plot(cmb)\n",
    "plt.show(block=True)"
   ]
  },
  {
   "cell_type": "markdown",
   "metadata": {},
   "source": [
    "Question 1"
   ]
  },
  {
   "cell_type": "code",
   "execution_count": 42,
   "metadata": {},
   "outputs": [],
   "source": [
    "# gets the spectrum at the same pionts as data\n",
    "def get_spectrum2(pars,lmax=2000):\n",
    "    #print('pars are ',pars)\n",
    "    H0=pars[0]\n",
    "    ombh2=pars[1]\n",
    "    omch2=pars[2]\n",
    "    tau=pars[3]\n",
    "    As=pars[4]\n",
    "    ns=pars[5]\n",
    "    pars=camb.CAMBparams()\n",
    "    pars.set_cosmology(H0=H0,ombh2=ombh2,omch2=omch2,mnu=0.06,omk=0,tau=tau)\n",
    "    pars.InitPower.set_params(As=As,ns=ns,r=0)\n",
    "    pars.set_for_lmax(lmax,lens_potential_accuracy=0)\n",
    "    results=camb.get_results(pars)\n",
    "    powers=results.get_cmb_power_spectra(pars,CMB_unit='muK')\n",
    "    cmb=powers['total']\n",
    "    tt=cmb[:,0]    #you could return the full power spectrum here if you wanted to do say EE\n",
    "    tt=tt[wmap[:,0].astype(int)]\n",
    "    return tt"
   ]
  },
  {
   "cell_type": "code",
   "execution_count": 43,
   "metadata": {},
   "outputs": [
    {
     "name": "stdout",
     "output_type": "stream",
     "text": [
      "the chi squared value is 1588.2376465826746\n"
     ]
    }
   ],
   "source": [
    "fit=get_spectrum2(pars)\n",
    "data=wmap[:,1]\n",
    "err=wmap[:,2]\n",
    "top=np.power((fit-data),2)\n",
    "bottom=np.power(err,2)\n",
    "X_sq=np.sum(np.divide(top,bottom))\n",
    "print('the chi squared value is', X_sq)"
   ]
  },
  {
   "cell_type": "markdown",
   "metadata": {},
   "source": [
    "I get a $\\chi^2$ value of 1588.238 which should be expected"
   ]
  },
  {
   "cell_type": "markdown",
   "metadata": {},
   "source": [
    "Question 2"
   ]
  },
  {
   "cell_type": "markdown",
   "metadata": {},
   "source": [
    "for a dervtive I will be using $\\frac{df}{dx}=\\frac{f(x+dx)-f(x)}{dx}$ with $dx=1$ since our data occurs at integver values"
   ]
  },
  {
   "cell_type": "code",
   "execution_count": 44,
   "metadata": {},
   "outputs": [],
   "source": [
    "def Ap(pars,fit,x): # fit is already calculated in chi_sq\n",
    "    Ap=np.zeros([5,len(fit)])\n",
    "    Ap[0,:]=(get_spectrum2(pars+[pars[0]/x,0,0,0,0,0])-fit)/(pars[0]/x)\n",
    "    Ap[1,:]=(get_spectrum2(pars+[0,pars[1]/x,0,0,0,0])-fit)/(pars[1]/x)\n",
    "    Ap[2,:]=(get_spectrum2(pars+[0,0,pars[2]/x,0,0,0])-fit)/(pars[2]/x)\n",
    "    Ap[3,:]=(get_spectrum2(pars+[0,0,0,0,(pars[4]/x),0])-fit)/(pars[4]/x)\n",
    "    Ap[4,:]=(get_spectrum2(pars+[0,0,0,0,0,(pars[5]/x)])-fit)/(pars[5]/x)\n",
    "    return Ap.transpose()\n",
    "\n",
    "def Ap_full(pars,fit,x): # fit is already calculated in chi_sq\n",
    "    Ap=np.zeros([len(pars),len(fit)])\n",
    "    dumy=np.zeros(len(pars))\n",
    "    for i in range(len(pars)):\n",
    "            dumy[i]=pars[i]/x\n",
    "            Ap[i,:]=(get_spectrum2(pars+dumy)-fit)/(pars[i]/x)\n",
    "            dumy[i]=0\n",
    "    return Ap.transpose()\n"
   ]
  },
  {
   "cell_type": "code",
   "execution_count": 45,
   "metadata": {},
   "outputs": [],
   "source": [
    "lam=1\n",
    "max_steps=10\n",
    "N=np.zeros([len(data),len(data)])\n",
    "for i in range(len(data)):\n",
    "    N[i,i]=err[i]**2\n",
    "chi_sq=np.zeros(max_steps+1)\n",
    "Ninv=np.linalg.inv(N)\n",
    "chi_sq[0]=X_sq"
   ]
  },
  {
   "cell_type": "code",
   "execution_count": 46,
   "metadata": {},
   "outputs": [],
   "source": [
    "for i in range(1,max_steps):\n",
    "    dA=Ap(pars,fit,100)\n",
    "    lhs=np.dot(dA.transpose(),np.dot(Ninv,dA))\n",
    "    rhs=np.dot(dA.transpose(),np.dot(Ninv,data-fit))\n",
    "    lhs=lhs+lam*np.diag(np.diag(lhs))\n",
    "    dm=np.dot(np.linalg.inv(lhs),rhs)\n",
    "    pars=pars+[dm[0],dm[1],dm[2],0,dm[3],dm[4]]\n",
    "    fit=get_spectrum2(pars)\n",
    "    top=np.power((fit-data),2)\n",
    "    bottom=np.power(err,2)\n",
    "    chi_sq[i]=np.sum(np.divide(top,bottom))\n",
    "    del_chi=chi_sq[i]-chi_sq[i-1]\n",
    "    if np.abs(del_chi)<.1:\n",
    "        print('stopped after ',i,'iterations')\n",
    "        break\n",
    "    lam=lam*2**(del_chi/100)\n",
    "if chi_sq[-1]!=0:\n",
    "    print('reached iteration limit of', maxsteps)\n",
    "                \n",
    "parsQ2=np.copy(pars) # saving the pars from Q2     "
   ]
  },
  {
   "cell_type": "code",
   "execution_count": 47,
   "metadata": {},
   "outputs": [],
   "source": [
    "cov=np.linalg.inv(lhs)"
   ]
  },
  {
   "cell_type": "code",
   "execution_count": 48,
   "metadata": {},
   "outputs": [],
   "source": [
    "err_chi=np.sqrt(np.diag(cov))"
   ]
  },
  {
   "cell_type": "code",
   "execution_count": 49,
   "metadata": {},
   "outputs": [
    {
     "name": "stdout",
     "output_type": "stream",
     "text": [
      "the hubble constant is 70.59567899953954 with an error of 1.1473013894055544\n",
      "the physical baryon density is 0.022548159561846828 with an error of 0.0003805913787019236\n",
      "the cold dark matter density is 0.11075334776726567 with an error of 0.0018527875000258797\n",
      "the primordial amplitude of fluctations is 2.0200581955470196e-09 with an error of 1.6091894854876494e-11\n",
      "the slope of the priomordial power law is 0.9729884371365463 with an error of 0.00888693404534759\n"
     ]
    }
   ],
   "source": [
    "print('the hubble constant is', pars[0],'with an error of',err_chi[0])\n",
    "print('the physical baryon density is', pars[1],'with an error of',err_chi[1])\n",
    "print('the cold dark matter density is', pars[2],'with an error of',err_chi[2])\n",
    "print('the primordial amplitude of fluctations is', pars[4],'with an error of',err_chi[3])\n",
    "print('the slope of the priomordial power law is', pars[5],'with an error of',err_chi[4])"
   ]
  },
  {
   "cell_type": "markdown",
   "metadata": {},
   "source": [
    "if our step dervitives are valid we should be able to change the step size and have no significant cchange to our chi square in another iteration "
   ]
  },
  {
   "cell_type": "code",
   "execution_count": 50,
   "metadata": {},
   "outputs": [
    {
     "name": "stdout",
     "output_type": "stream",
     "text": [
      "-0.08526426650905705\n"
     ]
    }
   ],
   "source": [
    "# we are taking another step with the step size reduced by 10 \n",
    "i=i+1\n",
    "dA=Ap(pars,fit,10)\n",
    "lhs=np.dot(dA.transpose(),np.dot(Ninv,dA))\n",
    "rhs=np.dot(dA.transpose(),np.dot(Ninv,data-fit))\n",
    "lhs=lhs+lam*np.diag(np.diag(lhs))\n",
    "dm=np.dot(np.linalg.inv(lhs),rhs)\n",
    "pars=pars+[dm[0],dm[1],dm[2],0,dm[3],dm[4]]\n",
    "fit=get_spectrum2(pars)\n",
    "top=np.power((fit-data),2)\n",
    "bottom=np.power(err,2)\n",
    "chi_sq[i]=np.sum(np.divide(top,bottom))\n",
    "del_chi=chi_sq[i]-chi_sq[i-1]\n",
    "print(del_chi)"
   ]
  },
  {
   "cell_type": "markdown",
   "metadata": {},
   "source": [
    "Note that change is not significant!"
   ]
  },
  {
   "cell_type": "markdown",
   "metadata": {},
   "source": [
    "If we were to allow  $\\tau$ to vary as well we would see an increase in error in all of our paramters since we are adding another paramter. But specficly since optical path length of the primordial universe is hard to calculate without polarization data which we don't use the error of parameter with dependence on $\\tau$ would skyrocket"
   ]
  },
  {
   "cell_type": "markdown",
   "metadata": {},
   "source": [
    "Question 3"
   ]
  },
  {
   "cell_type": "markdown",
   "metadata": {},
   "source": [
    "I will start by using the results from question 2 to get a covarince matrix that includes $\\tau=0.1$"
   ]
  },
  {
   "cell_type": "code",
   "execution_count": 51,
   "metadata": {},
   "outputs": [],
   "source": [
    "dA=Ap_full(pars,fit,100)\n",
    "lhs=np.dot(dA.transpose(),np.dot(Ninv,dA))\n",
    "cov=np.linalg.inv(lhs)"
   ]
  },
  {
   "cell_type": "code",
   "execution_count": 52,
   "metadata": {},
   "outputs": [],
   "source": [
    "def par_step(par,step):\n",
    "    param_scalings=step*par\n",
    "    return par+param_scalings*np.random.randn(len(par))\n",
    "def take_step_cov(covmat):\n",
    "    mychol=np.linalg.cholesky(covmat)\n",
    "    return np.dot(mychol,np.random.randn(covmat.shape[0]))"
   ]
  },
  {
   "cell_type": "code",
   "execution_count": 68,
   "metadata": {},
   "outputs": [
    {
     "name": "stdout",
     "output_type": "stream",
     "text": [
      "270.83850214481356 min\n"
     ]
    }
   ],
   "source": [
    "scale_fac=0.5\n",
    "chisq=chi_sq[i]\n",
    "nstep=10000\n",
    "chain=np.zeros([nstep,len(pars)])\n",
    "chisqvec=np.zeros(nstep)\n",
    "pars=parsQ2\n",
    "t=time.time()\n",
    "count=0\n",
    "for ii in range(nstep):\n",
    "    new_pars=pars+take_step_cov(cov)*scale_fac\n",
    "    if new_pars[3]>0:\n",
    "        fit=get_spectrum2(new_pars)\n",
    "        new_chisq=np.sum(np.divide(np.power((fit-data),2),np.power(err,2)))    \n",
    "        delta_chisq=new_chisq-chisq\n",
    "        prob=np.exp(-0.5*delta_chisq)\n",
    "        accept=np.random.rand(1)<prob\n",
    "        if accept:\n",
    "            pars=new_pars\n",
    "            chisq=new_chisq\n",
    "            count=count+1\n",
    "    chain[ii,:]=pars\n",
    "    chisqvec[ii]=chisq\n",
    "    np.savetxt('Q3.csv', chain, delimiter=',')\n",
    "np.savetxt('Q3_final.csv', chain, delimiter=',')\n",
    "print((time.time()-t)/60,'min')"
   ]
  },
  {
   "cell_type": "code",
   "execution_count": 69,
   "metadata": {},
   "outputs": [
    {
     "data": {
      "text/plain": [
       "19.31"
      ]
     },
     "execution_count": 69,
     "metadata": {},
     "output_type": "execute_result"
    }
   ],
   "source": [
    "count/nstep*100"
   ]
  },
  {
   "cell_type": "code",
   "execution_count": 81,
   "metadata": {},
   "outputs": [],
   "source": [
    "chain=np.loadtxt('Q3_final_good.csv',delimiter=',') #just in case the data is lost"
   ]
  },
  {
   "cell_type": "code",
   "execution_count": 217,
   "metadata": {},
   "outputs": [],
   "source": [
    "MCMC_pars=np.mean(chain,axis=0)\n",
    "MCMC_err=np.std(chain,axis=0)/np.sqrt(nstep/2) #making an estimate that half the data points are uncorrelated"
   ]
  },
  {
   "cell_type": "code",
   "execution_count": 220,
   "metadata": {
    "scrolled": true
   },
   "outputs": [
    {
     "name": "stdout",
     "output_type": "stream",
     "text": [
      "the hubble constant is 75.80580749551383 with an error of 0.0518598650505483\n",
      "the physical baryon density is 0.02379354941364259 with an error of 1.0844065263033779e-05\n",
      "the cold dark matter density is 0.10283894641560551 with an error of 9.191503892632186e-05\n",
      "the optical path length is 0.20152473933069137 with an error of 0.0009003830653464332\n",
      "the primordial amplitude of fluctations is 2.6995576165048764e-09 with an error of 3.896222187932248e-12\n",
      "the slope of the priomordial power law is 1.0154561470957753 with an error of 0.0003272819374305248\n"
     ]
    }
   ],
   "source": [
    "print('the hubble constant is', MCMC_pars[0],'with an error of',MCMC_err[0])\n",
    "print('the physical baryon density is', MCMC_pars[1],'with an error of',MCMC_err[1])\n",
    "print('the cold dark matter density is', MCMC_pars[2],'with an error of',MCMC_err[2])\n",
    "print('the optical path length is', MCMC_pars[3],'with an error of',MCMC_err[3])\n",
    "print('the primordial amplitude of fluctations is', MCMC_pars[4],'with an error of',MCMC_err[4])\n",
    "print('the slope of the priomordial power law is', MCMC_pars[5],'with an error of',MCMC_err[5])"
   ]
  },
  {
   "cell_type": "markdown",
   "metadata": {},
   "source": [
    "To shoe that the MCMC chain has converged we will show that the last 2000 pionts are just a fluctuation about the mean so are white noise and the fourier transform will also be white noise this can be done with any paramter I will show it with the cold dark matter density since dark matter is cool"
   ]
  },
  {
   "cell_type": "code",
   "execution_count": 206,
   "metadata": {},
   "outputs": [
    {
     "data": {
      "image/png": "[encoded data removed]",
      "text/plain": [
       "<Figure size 432x288 with 1 Axes>"
      ]
     },
     "metadata": {
      "needs_background": "light"
     },
     "output_type": "display_data"
    }
   ],
   "source": [
    "test_par=2\n",
    "noise=chain[nstep-3000:nstep,test_par]-MCMC_pars[test_par]\n",
    "plt.plot(noise)\n",
    "plt.show()"
   ]
  },
  {
   "cell_type": "code",
   "execution_count": 246,
   "metadata": {},
   "outputs": [
    {
     "data": {
      "image/png": "[encoded data removed]",
      "text/plain": [
       "<Figure size 432x288 with 1 Axes>"
      ]
     },
     "metadata": {
      "needs_background": "light"
     },
     "output_type": "display_data"
    }
   ],
   "source": [
    "import matplotlib\n",
    "F_noise=np.fft.rfft(noise)\n",
    "plt.loglog(F_noise) \n",
    "plt.show()"
   ]
  },
  {
   "cell_type": "markdown",
   "metadata": {},
   "source": [
    "random noise"
   ]
  },
  {
   "cell_type": "markdown",
   "metadata": {},
   "source": [
    "Question 4"
   ]
  },
  {
   "cell_type": "code",
   "execution_count": null,
   "metadata": {},
   "outputs": [],
   "source": []
  }
 ],
 "metadata": {
  "kernelspec": {
   "display_name": "Python 3",
   "language": "python",
   "name": "python3"
  },
  "language_info": {
   "codemirror_mode": {
    "name": "ipython",
    "version": 3
   },
   "file_extension": ".py",
   "mimetype": "text/x-python",
   "name": "python",
   "nbconvert_exporter": "python",
   "pygments_lexer": "ipython3",
   "version": "3.7.4"
  }
 },
 "nbformat": 4,
 "nbformat_minor": 2
}
